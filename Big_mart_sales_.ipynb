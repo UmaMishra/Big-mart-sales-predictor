{
  "nbformat": 4,
  "nbformat_minor": 0,
  "metadata": {
    "colab": {
      "name": "Big mart sales.",
      "provenance": [],
      "authorship_tag": "ABX9TyOuHsH5QJ7mkqnZ9dcdBuPo",
      "include_colab_link": true
    },
    "kernelspec": {
      "name": "python3",
      "display_name": "Python 3"
    }
  },
  "cells": [
    {
      "cell_type": "markdown",
      "metadata": {
        "id": "view-in-github",
        "colab_type": "text"
      },
      "source": [
        "<a href=\"https://colab.research.google.com/github/UmaMishra/Big-mart-sales-predictor/blob/main/Big_mart_sales_.ipynb\" target=\"_parent\"><img src=\"https://colab.research.google.com/assets/colab-badge.svg\" alt=\"Open In Colab\"/></a>"
      ]
    },
    {
      "cell_type": "code",
      "metadata": {
        "id": "PrELTKN1bV69"
      },
      "source": [
        "import pandas as pd\n",
        "import numpy as np\n",
        "import matplotlib.pyplot as plt\n",
        "%matplotlib inline\n",
        "import seaborn as sns\n",
        "import xgboost as xgb\n",
        "from sklearn.metrics import mean_squared_error\n"
      ],
      "execution_count": null,
      "outputs": []
    },
    {
      "cell_type": "code",
      "metadata": {
        "id": "5zUurR9Mcptn",
        "colab": {
          "base_uri": "https://localhost:8080/",
          "height": 101
        },
        "outputId": "a38610ca-8e2e-4399-9fc3-c875c73f7bf1"
      },
      "source": [
        "## load data\n",
        "train=pd.read_csv(\"/content/big_mart(training).csv\")\n",
        "test=pd.read_csv(\"/content/big_mart(testing).csv\")\n",
        "final_test=pd.read_csv(\"/content/big_mart(testing).csv\")\n",
        "sample_file=pd.read_csv(\"/content/sample.csv\")\n",
        "\n",
        "train.columns"
      ],
      "execution_count": null,
      "outputs": [
        {
          "output_type": "execute_result",
          "data": {
            "text/plain": [
              "Index(['Item_Identifier', 'Item_Weight', 'Item_Fat_Content', 'Item_Visibility',\n",
              "       'Item_Type', 'Item_MRP', 'Outlet_Identifier',\n",
              "       'Outlet_Establishment_Year', 'Outlet_Size', 'Outlet_Location_Type',\n",
              "       'Outlet_Type', 'Item_Outlet_Sales'],\n",
              "      dtype='object')"
            ]
          },
          "metadata": {
            "tags": []
          },
          "execution_count": 3
        }
      ]
    },
    {
      "cell_type": "code",
      "metadata": {
        "id": "Hx4paVKWczs9",
        "colab": {
          "base_uri": "https://localhost:8080/",
          "height": 118
        },
        "outputId": "955f5347-1499-44ff-f99c-8ce56f5ce5c3"
      },
      "source": [
        "train.Outlet_Size.head()\n"
      ],
      "execution_count": null,
      "outputs": [
        {
          "output_type": "execute_result",
          "data": {
            "text/plain": [
              "0    Medium\n",
              "1    Medium\n",
              "2    Medium\n",
              "3       NaN\n",
              "4      High\n",
              "Name: Outlet_Size, dtype: object"
            ]
          },
          "metadata": {
            "tags": []
          },
          "execution_count": 5
        }
      ]
    },
    {
      "cell_type": "code",
      "metadata": {
        "id": "w4Gypk-SdR5w",
        "colab": {
          "base_uri": "https://localhost:8080/",
          "height": 34
        },
        "outputId": "c46af956-3e7c-42c6-cdad-f89b52708257"
      },
      "source": [
        "\n",
        "train.Item_Visibility.fillna(test.Item_Visibility.mean(),inplace=True)\n",
        "train.Item_Visibility.isnull().sum()"
      ],
      "execution_count": null,
      "outputs": [
        {
          "output_type": "execute_result",
          "data": {
            "text/plain": [
              "0"
            ]
          },
          "metadata": {
            "tags": []
          },
          "execution_count": 149
        }
      ]
    },
    {
      "cell_type": "code",
      "metadata": {
        "id": "Urkt8IsneWJ0"
      },
      "source": [
        "\n"
      ],
      "execution_count": null,
      "outputs": []
    },
    {
      "cell_type": "code",
      "metadata": {
        "id": "Vp8nOVSri69S"
      },
      "source": [
        "## This function is very important because it tell about the feature that has high correlation \n",
        "## by using this function, we can drop the that particular feature which has greater correlation than the given or mention threshold correlation\n",
        "## value\n",
        "def correlation(dataset,threshold):\n",
        "  col_corr=set()\n",
        "  corr_matrix=dataset.corr()\n",
        "  for i in range(len(corr_matrix.columns)):\n",
        "    for j in range(i):\n",
        "      if(abs(corr_matrix.iloc[i,j]) > threshold):\n",
        "        colname=corr_matrix.columns[i]\n",
        "        col_corr.add(colname)\n",
        "  return col_corr"
      ],
      "execution_count": null,
      "outputs": []
    },
    {
      "cell_type": "code",
      "metadata": {
        "id": "DD0PdJKek9yt"
      },
      "source": [
        "corr_feature=correlation(train,0.8)\n",
        "len(set(corr_feature))"
      ],
      "execution_count": null,
      "outputs": []
    },
    {
      "cell_type": "code",
      "metadata": {
        "id": "rdJ0u_2BlwV0",
        "colab": {
          "base_uri": "https://localhost:8080/",
          "height": 34
        },
        "outputId": "ed55401a-31e9-4ddf-ac64-72c524b048f2"
      },
      "source": [
        "print(corr_feature)"
      ],
      "execution_count": null,
      "outputs": [
        {
          "output_type": "stream",
          "text": [
            "set()\n"
          ],
          "name": "stdout"
        }
      ]
    },
    {
      "cell_type": "code",
      "metadata": {
        "id": "TTd4t9Htu9ML"
      },
      "source": [
        "train.drop(corr_feature,axis=1,inplace=True)\n",
        "test.drop(corr_feature,axis=1,inplace=True)"
      ],
      "execution_count": null,
      "outputs": []
    },
    {
      "cell_type": "code",
      "metadata": {
        "id": "Wa5-R9T48L7v",
        "colab": {
          "base_uri": "https://localhost:8080/",
          "height": 101
        },
        "outputId": "4ad8d71c-7508-4379-884e-ac4277990f93"
      },
      "source": [
        "train.columns"
      ],
      "execution_count": null,
      "outputs": [
        {
          "output_type": "execute_result",
          "data": {
            "text/plain": [
              "Index(['Item_Identifier', 'Item_Weight', 'Item_Fat_Content', 'Item_Visibility',\n",
              "       'Item_Type', 'Item_MRP', 'Outlet_Identifier',\n",
              "       'Outlet_Establishment_Year', 'Outlet_Size', 'Outlet_Location_Type',\n",
              "       'Outlet_Type', 'Item_Outlet_Sales'],\n",
              "      dtype='object')"
            ]
          },
          "metadata": {
            "tags": []
          },
          "execution_count": 43
        }
      ]
    },
    {
      "cell_type": "code",
      "metadata": {
        "id": "t9lDoWMVx6ev"
      },
      "source": [
        "train.isna().sum() \n",
        "test.isnull().sum()\n",
        "test.Item_Visibility=final_test.Item_Visibility\n"
      ],
      "execution_count": null,
      "outputs": []
    },
    {
      "cell_type": "code",
      "metadata": {
        "id": "7wvXLLVJx-Q8",
        "colab": {
          "base_uri": "https://localhost:8080/",
          "height": 399
        },
        "outputId": "9dc61550-9343-422c-b51f-663814bf9844"
      },
      "source": [
        "## 4.check outliers for training dataset and testing datasets\n",
        "plt.figure(figsize=(20,6))\n",
        "sns.boxplot(x='Item_Visibility',data=train)"
      ],
      "execution_count": null,
      "outputs": [
        {
          "output_type": "execute_result",
          "data": {
            "text/plain": [
              "<matplotlib.axes._subplots.AxesSubplot at 0x7f01bd7537f0>"
            ]
          },
          "metadata": {
            "tags": []
          },
          "execution_count": 8
        },
        {
          "output_type": "display_data",
          "data": {
            "image/png": "[encoded data removed]",
            "text/plain": [
              "<Figure size 1440x432 with 1 Axes>"
            ]
          },
          "metadata": {
            "tags": [],
            "needs_background": "light"
          }
        }
      ]
    },
    {
      "cell_type": "code",
      "metadata": {
        "id": "xEQEtjL_eQhF"
      },
      "source": [
        "median = train.loc[train['Item_Visibility']<0.186, 'Item_Visibility'].median()\n",
        "train[\"Item_Visibility\"]= np.where(train[\"Item_Visibility\"] >0.186, median,train['Item_Visibility'])\n"
      ],
      "execution_count": null,
      "outputs": []
    },
    {
      "cell_type": "code",
      "metadata": {
        "id": "q63DIpPgekUb",
        "colab": {
          "base_uri": "https://localhost:8080/",
          "height": 399
        },
        "outputId": "0663ed87-b340-4bc0-e3ce-4a76b2d1eb3f"
      },
      "source": [
        "plt.figure(figsize=(20,6))\n",
        "sns.boxplot(x='Item_Visibility',data=train)"
      ],
      "execution_count": null,
      "outputs": [
        {
          "output_type": "execute_result",
          "data": {
            "text/plain": [
              "<matplotlib.axes._subplots.AxesSubplot at 0x7f01bd771b38>"
            ]
          },
          "metadata": {
            "tags": []
          },
          "execution_count": 10
        },
        {
          "output_type": "display_data",
          "data": {
            "image/png": "[encoded data removed]",
            "text/plain": [
              "<Figure size 1440x432 with 1 Axes>"
            ]
          },
          "metadata": {
            "tags": [],
            "needs_background": "light"
          }
        }
      ]
    },
    {
      "cell_type": "code",
      "metadata": {
        "id": "E1-lW_52cJSN",
        "colab": {
          "base_uri": "https://localhost:8080/",
          "height": 399
        },
        "outputId": "92a5b827-24a6-41f9-dd5e-427a171cc2a0"
      },
      "source": [
        "plt.figure(figsize=(20,6))\n",
        "sns.boxplot(x='Item_Visibility',data=test)"
      ],
      "execution_count": null,
      "outputs": [
        {
          "output_type": "execute_result",
          "data": {
            "text/plain": [
              "<matplotlib.axes._subplots.AxesSubplot at 0x7f01bbf33ba8>"
            ]
          },
          "metadata": {
            "tags": []
          },
          "execution_count": 11
        },
        {
          "output_type": "display_data",
          "data": {
            "image/png": "[encoded data removed]",
            "text/plain": [
              "<Figure size 1440x432 with 1 Axes>"
            ]
          },
          "metadata": {
            "tags": [],
            "needs_background": "light"
          }
        }
      ]
    },
    {
      "cell_type": "code",
      "metadata": {
        "id": "QRQXf8sse32l"
      },
      "source": [
        "median = test.loc[train['Item_Visibility']<0.178, 'Item_Visibility'].median()\n",
        "test[\"Item_Visibility\"] = np.where(test[\"Item_Visibility\"] >0.178, median,test['Item_Visibility'])"
      ],
      "execution_count": null,
      "outputs": []
    },
    {
      "cell_type": "code",
      "metadata": {
        "id": "js1Wo_CaduDK",
        "colab": {
          "base_uri": "https://localhost:8080/",
          "height": 399
        },
        "outputId": "d8e5ebe9-1765-4391-a20b-9eb181731597"
      },
      "source": [
        "plt.figure(figsize=(20,6))\n",
        "sns.boxplot(x='Item_Visibility',data=test)"
      ],
      "execution_count": null,
      "outputs": [
        {
          "output_type": "execute_result",
          "data": {
            "text/plain": [
              "<matplotlib.axes._subplots.AxesSubplot at 0x7f01bbf1c320>"
            ]
          },
          "metadata": {
            "tags": []
          },
          "execution_count": 13
        },
        {
          "output_type": "display_data",
          "data": {
            "image/png": "[encoded data removed]",
            "text/plain": [
              "<Figure size 1440x432 with 1 Axes>"
            ]
          },
          "metadata": {
            "tags": [],
            "needs_background": "light"
          }
        }
      ]
    },
    {
      "cell_type": "code",
      "metadata": {
        "id": "M5oT0ogdQ74R",
        "colab": {
          "base_uri": "https://localhost:8080/",
          "height": 50
        },
        "outputId": "cf89bafd-e881-41e4-a3fd-3c2b05e4dd2f"
      },
      "source": [
        "## 3. check missing value if present then fill it\n",
        "print(train.Item_Weight.isnull().sum())\n",
        "print(test.Item_Weight.isnull().sum())\n"
      ],
      "execution_count": null,
      "outputs": [
        {
          "output_type": "stream",
          "text": [
            "1463\n",
            "976\n"
          ],
          "name": "stdout"
        }
      ]
    },
    {
      "cell_type": "code",
      "metadata": {
        "id": "3V97F6YiSrR9",
        "colab": {
          "base_uri": "https://localhost:8080/",
          "height": 50
        },
        "outputId": "7f1393f1-ae8e-4527-c9b6-ef4cc625aab5"
      },
      "source": [
        "train[\"Item_Weight\"] = train[\"Item_Weight\"].fillna(train.Item_Weight.mean())\n",
        "test[\"Item_Weight\"] = test[\"Item_Weight\"].fillna(test.Item_Weight.mean())\n",
        "\n",
        "print(train.Item_Weight.isnull().sum())\n",
        "train.dtypes\n",
        "test.Outlet_Size.fillna(\"new_category\",inplace=True)\n",
        "train.Outlet_Size.fillna(\"new_category\",inplace=True)\n",
        "print(train.Item_Weight.isnull().sum())"
      ],
      "execution_count": null,
      "outputs": [
        {
          "output_type": "stream",
          "text": [
            "0\n",
            "0\n"
          ],
          "name": "stdout"
        }
      ]
    },
    {
      "cell_type": "code",
      "metadata": {
        "id": "A2t9uWhh4Otl"
      },
      "source": [
        "train=train.drop('Item_Identifier',axis=1)\n",
        "train=train.drop('Outlet_Identifier',axis=1)\n",
        "test=test.drop('Item_Identifier',axis=1)\n",
        "test=test.drop('Outlet_Identifier',axis=1)\n"
      ],
      "execution_count": null,
      "outputs": []
    },
    {
      "cell_type": "code",
      "metadata": {
        "id": "n5BRItb3TG55",
        "colab": {
          "base_uri": "https://localhost:8080/",
          "height": 160
        },
        "outputId": "81d877d9-1dd2-4abe-bc71-37d6c0df7b7d"
      },
      "source": [
        "train.head(2)"
      ],
      "execution_count": null,
      "outputs": [
        {
          "output_type": "execute_result",
          "data": {
            "text/html": [
              "<div>\n",
              "<style scoped>\n",
              "    .dataframe tbody tr th:only-of-type {\n",
              "        vertical-align: middle;\n",
              "    }\n",
              "\n",
              "    .dataframe tbody tr th {\n",
              "        vertical-align: top;\n",
              "    }\n",
              "\n",
              "    .dataframe thead th {\n",
              "        text-align: right;\n",
              "    }\n",
              "</style>\n",
              "<table border=\"1\" class=\"dataframe\">\n",
              "  <thead>\n",
              "    <tr style=\"text-align: right;\">\n",
              "      <th></th>\n",
              "      <th>Item_Weight</th>\n",
              "      <th>Item_Fat_Content</th>\n",
              "      <th>Item_Visibility</th>\n",
              "      <th>Item_Type</th>\n",
              "      <th>Item_MRP</th>\n",
              "      <th>Outlet_Establishment_Year</th>\n",
              "      <th>Outlet_Size</th>\n",
              "      <th>Outlet_Location_Type</th>\n",
              "      <th>Outlet_Type</th>\n",
              "      <th>Item_Outlet_Sales</th>\n",
              "    </tr>\n",
              "  </thead>\n",
              "  <tbody>\n",
              "    <tr>\n",
              "      <th>0</th>\n",
              "      <td>9.30</td>\n",
              "      <td>Low Fat</td>\n",
              "      <td>0.016047</td>\n",
              "      <td>Dairy</td>\n",
              "      <td>249.8092</td>\n",
              "      <td>1999</td>\n",
              "      <td>Medium</td>\n",
              "      <td>Tier 1</td>\n",
              "      <td>Supermarket Type1</td>\n",
              "      <td>3735.1380</td>\n",
              "    </tr>\n",
              "    <tr>\n",
              "      <th>1</th>\n",
              "      <td>5.92</td>\n",
              "      <td>Regular</td>\n",
              "      <td>0.019278</td>\n",
              "      <td>Soft Drinks</td>\n",
              "      <td>48.2692</td>\n",
              "      <td>2009</td>\n",
              "      <td>Medium</td>\n",
              "      <td>Tier 3</td>\n",
              "      <td>Supermarket Type2</td>\n",
              "      <td>443.4228</td>\n",
              "    </tr>\n",
              "  </tbody>\n",
              "</table>\n",
              "</div>"
            ],
            "text/plain": [
              "   Item_Weight Item_Fat_Content  ...        Outlet_Type Item_Outlet_Sales\n",
              "0         9.30          Low Fat  ...  Supermarket Type1         3735.1380\n",
              "1         5.92          Regular  ...  Supermarket Type2          443.4228\n",
              "\n",
              "[2 rows x 10 columns]"
            ]
          },
          "metadata": {
            "tags": []
          },
          "execution_count": 17
        }
      ]
    },
    {
      "cell_type": "code",
      "metadata": {
        "id": "wVkOQgEfUVBl",
        "colab": {
          "base_uri": "https://localhost:8080/",
          "height": 168
        },
        "outputId": "f0ddf30c-9e06-457e-998b-0a07bdde24b7"
      },
      "source": [
        "x=train.drop('Item_Outlet_Sales',axis=1)\n",
        "y=train.Item_Outlet_Sales\n",
        "print(train['Item_Fat_Content'].unique())\n",
        "print(train['Item_Type'].unique())\n",
        "print(train['Outlet_Size'].unique())\n",
        "print(train['Outlet_Location_Type'].unique())\n",
        "print(train['Outlet_Type'].unique())\n",
        "train.Outlet_Size.fillna('New_Category',inplace=True)"
      ],
      "execution_count": null,
      "outputs": [
        {
          "output_type": "stream",
          "text": [
            "['Low Fat' 'Regular' 'low fat' 'LF' 'reg']\n",
            "['Dairy' 'Soft Drinks' 'Meat' 'Fruits and Vegetables' 'Household'\n",
            " 'Baking Goods' 'Snack Foods' 'Frozen Foods' 'Breakfast'\n",
            " 'Health and Hygiene' 'Hard Drinks' 'Canned' 'Breads' 'Starchy Foods'\n",
            " 'Others' 'Seafood']\n",
            "['Medium' 'new_category' 'High' 'Small']\n",
            "['Tier 1' 'Tier 3' 'Tier 2']\n",
            "['Supermarket Type1' 'Supermarket Type2' 'Grocery Store'\n",
            " 'Supermarket Type3']\n"
          ],
          "name": "stdout"
        }
      ]
    },
    {
      "cell_type": "code",
      "metadata": {
        "id": "NoZOoK6tVTlJ",
        "colab": {
          "base_uri": "https://localhost:8080/",
          "height": 202
        },
        "outputId": "b2f38b14-3428-4a8f-8d81-77a04c466437"
      },
      "source": [
        "from sklearn import preprocessing\n",
        "label_encoder=preprocessing.LabelEncoder()\n",
        "train['Outlet_Size']=label_encoder.fit_transform(train['Outlet_Size'])\n",
        "train['Outlet_Type']=label_encoder.fit_transform(train['Outlet_Type'])\n",
        "train['Item_Fat_Content']=label_encoder.fit_transform(train['Item_Fat_Content'])\n",
        "train['Outlet_Location_Type']=label_encoder.fit_transform(train['Outlet_Location_Type'])\n",
        "train.dtypes"
      ],
      "execution_count": null,
      "outputs": [
        {
          "output_type": "execute_result",
          "data": {
            "text/plain": [
              "Item_Weight                  float64\n",
              "Item_Fat_Content               int64\n",
              "Item_Visibility              float64\n",
              "Item_Type                     object\n",
              "Item_MRP                     float64\n",
              "Outlet_Establishment_Year      int64\n",
              "Outlet_Size                    int64\n",
              "Outlet_Location_Type           int64\n",
              "Outlet_Type                    int64\n",
              "Item_Outlet_Sales            float64\n",
              "dtype: object"
            ]
          },
          "metadata": {
            "tags": []
          },
          "execution_count": 19
        }
      ]
    },
    {
      "cell_type": "code",
      "metadata": {
        "id": "HKk7YcG7VUVK",
        "colab": {
          "base_uri": "https://localhost:8080/",
          "height": 218
        },
        "outputId": "791e9f5a-ef49-4d96-ba06-0daaf1804178"
      },
      "source": [
        "\n",
        "test.Outlet_Size"
      ],
      "execution_count": null,
      "outputs": [
        {
          "output_type": "execute_result",
          "data": {
            "text/plain": [
              "0             Medium\n",
              "1       new_category\n",
              "2       new_category\n",
              "3       new_category\n",
              "4             Medium\n",
              "            ...     \n",
              "5676           Small\n",
              "5677          Medium\n",
              "5678    new_category\n",
              "5679    new_category\n",
              "5680    new_category\n",
              "Name: Outlet_Size, Length: 5681, dtype: object"
            ]
          },
          "metadata": {
            "tags": []
          },
          "execution_count": 20
        }
      ]
    },
    {
      "cell_type": "code",
      "metadata": {
        "id": "KrpVTf8NVU6i",
        "colab": {
          "base_uri": "https://localhost:8080/",
          "height": 185
        },
        "outputId": "77acfdea-66eb-44cd-d21e-eb315e619c1c"
      },
      "source": [
        "test['Outlet_Size']=label_encoder.fit_transform(test['Outlet_Size'])\n",
        "test['Outlet_Type']=label_encoder.fit_transform(test['Outlet_Type'])\n",
        "test['Item_Fat_Content']=label_encoder.fit_transform(test['Item_Fat_Content'])\n",
        "test['Outlet_Location_Type']=label_encoder.fit_transform(test['Outlet_Location_Type'])\n",
        "test.dtypes"
      ],
      "execution_count": null,
      "outputs": [
        {
          "output_type": "execute_result",
          "data": {
            "text/plain": [
              "Item_Weight                  float64\n",
              "Item_Fat_Content               int64\n",
              "Item_Visibility              float64\n",
              "Item_Type                     object\n",
              "Item_MRP                     float64\n",
              "Outlet_Establishment_Year      int64\n",
              "Outlet_Size                    int64\n",
              "Outlet_Location_Type           int64\n",
              "Outlet_Type                    int64\n",
              "dtype: object"
            ]
          },
          "metadata": {
            "tags": []
          },
          "execution_count": 21
        }
      ]
    },
    {
      "cell_type": "code",
      "metadata": {
        "id": "4QfUuYYeXPc9",
        "colab": {
          "base_uri": "https://localhost:8080/",
          "height": 185
        },
        "outputId": "c4bb1b36-5900-4c11-cf6a-093dc6be0c17"
      },
      "source": [
        "train=pd.get_dummies(train)\n",
        "test=pd.get_dummies(test)\n",
        "x=train.drop('Item_Outlet_Sales',axis=1)\n",
        "y=train.Item_Outlet_Sales\n",
        "test.columns"
      ],
      "execution_count": null,
      "outputs": [
        {
          "output_type": "execute_result",
          "data": {
            "text/plain": [
              "Index(['Item_Weight', 'Item_Fat_Content', 'Item_Visibility', 'Item_MRP',\n",
              "       'Outlet_Establishment_Year', 'Outlet_Size', 'Outlet_Location_Type',\n",
              "       'Outlet_Type', 'Item_Type_Baking Goods', 'Item_Type_Breads',\n",
              "       'Item_Type_Breakfast', 'Item_Type_Canned', 'Item_Type_Dairy',\n",
              "       'Item_Type_Frozen Foods', 'Item_Type_Fruits and Vegetables',\n",
              "       'Item_Type_Hard Drinks', 'Item_Type_Health and Hygiene',\n",
              "       'Item_Type_Household', 'Item_Type_Meat', 'Item_Type_Others',\n",
              "       'Item_Type_Seafood', 'Item_Type_Snack Foods', 'Item_Type_Soft Drinks',\n",
              "       'Item_Type_Starchy Foods'],\n",
              "      dtype='object')"
            ]
          },
          "metadata": {
            "tags": []
          },
          "execution_count": 22
        }
      ]
    },
    {
      "cell_type": "markdown",
      "metadata": {
        "id": "JVnddNxEWRYa"
      },
      "source": [
        "###Now,implement XGBoost model\n"
      ]
    },
    {
      "cell_type": "code",
      "metadata": {
        "id": "nFilLm8AWams"
      },
      "source": [
        "import xgboost\n",
        "model = xgboost.XGBRegressor()"
      ],
      "execution_count": null,
      "outputs": []
    },
    {
      "cell_type": "code",
      "metadata": {
        "id": "u3mHvLWCW4gZ"
      },
      "source": [
        "model.fit(x,y)"
      ],
      "execution_count": null,
      "outputs": []
    },
    {
      "cell_type": "code",
      "metadata": {
        "id": "StaDMSgIXTg4"
      },
      "source": [
        "from sklearn.model_selection import train_test_split\n",
        "\n",
        "x_train,x_test,y_train,y_test=train_test_split(x,y,test_size=0.25,random_state=0)"
      ],
      "execution_count": null,
      "outputs": []
    },
    {
      "cell_type": "code",
      "metadata": {
        "id": "-_4GqLwQZrS5"
      },
      "source": [
        "y_pred=model.predict(test)\n",
        "print(y_pred)\n",
        "#now for trial purpose"
      ],
      "execution_count": null,
      "outputs": []
    },
    {
      "cell_type": "code",
      "metadata": {
        "id": "optRDHI1j4XM"
      },
      "source": [
        "from sklearn import metrics"
      ],
      "execution_count": null,
      "outputs": []
    },
    {
      "cell_type": "code",
      "metadata": {
        "id": "vlFLGP0lkSCf"
      },
      "source": [
        "model.score(x_test,y_test)\n"
      ],
      "execution_count": null,
      "outputs": []
    },
    {
      "cell_type": "code",
      "metadata": {
        "id": "yPLLvtj_wtgu"
      },
      "source": [
        "submit=pd.read_csv(\"/content/sample.csv\")\n",
        "submit.Outlet_Identifier=final_test.Outlet_Identifier\n",
        "submit.head(2)"
      ],
      "execution_count": null,
      "outputs": []
    },
    {
      "cell_type": "code",
      "metadata": {
        "id": "TwMF-q4txP5u"
      },
      "source": [
        "submit.Item_Identifier=final_test.Item_Identifier\n",
        "submit.Item_Outlet_Sales=y_pred\n",
        "submit[submit.Item_Outlet_Sales < 0]=0"
      ],
      "execution_count": null,
      "outputs": []
    },
    {
      "cell_type": "code",
      "metadata": {
        "id": "tyoSX_G03dFY"
      },
      "source": [
        "pd.DataFrame(submit,columns=['Item_Identifier','Outlet_Identifier','Item_Outlet_Sales']).to_csv(\"/content/sample.csv\")\n",
        "submit.head\n"
      ],
      "execution_count": null,
      "outputs": []
    },
    {
      "cell_type": "code",
      "metadata": {
        "id": "1xQNJX6PdRER"
      },
      "source": [
        ""
      ],
      "execution_count": null,
      "outputs": []
    },
    {
      "cell_type": "code",
      "metadata": {
        "id": "rvQblzAlhZil"
      },
      "source": [
        "\n"
      ],
      "execution_count": null,
      "outputs": []
    }
  ]
}